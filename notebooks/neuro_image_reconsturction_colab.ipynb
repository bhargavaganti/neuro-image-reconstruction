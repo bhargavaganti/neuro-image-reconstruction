{
  "nbformat": 4,
  "nbformat_minor": 0,
  "metadata": {
    "colab": {
      "name": "neuro-image-reconsturction",
      "provenance": [],
      "collapsed_sections": []
    },
    "kernelspec": {
      "name": "python3",
      "display_name": "Python 3"
    },
    "accelerator": "GPU"
  },
  "cells": [
    {
      "cell_type": "code",
      "metadata": {
        "id": "s1fcvWw6se0T"
      },
      "source": [
        "%tensorflow_version 2.x"
      ],
      "execution_count": 1,
      "outputs": []
    },
    {
      "cell_type": "code",
      "metadata": {
        "id": "HNj9DALrxkdd",
        "colab": {
          "base_uri": "https://localhost:8080/"
        },
        "outputId": "47149c4c-d627-4d00-c02c-882ce3b59f4a"
      },
      "source": [
        "!nvidia-smi"
      ],
      "execution_count": 2,
      "outputs": [
        {
          "output_type": "stream",
          "text": [
            "Fri Nov 20 15:58:04 2020       \n",
            "+-----------------------------------------------------------------------------+\n",
            "| NVIDIA-SMI 455.38       Driver Version: 418.67       CUDA Version: 10.1     |\n",
            "|-------------------------------+----------------------+----------------------+\n",
            "| GPU  Name        Persistence-M| Bus-Id        Disp.A | Volatile Uncorr. ECC |\n",
            "| Fan  Temp  Perf  Pwr:Usage/Cap|         Memory-Usage | GPU-Util  Compute M. |\n",
            "|                               |                      |               MIG M. |\n",
            "|===============================+======================+======================|\n",
            "|   0  Tesla T4            Off  | 00000000:00:04.0 Off |                    0 |\n",
            "| N/A   61C    P8    10W /  70W |      0MiB / 15079MiB |      0%      Default |\n",
            "|                               |                      |                 ERR! |\n",
            "+-------------------------------+----------------------+----------------------+\n",
            "                                                                               \n",
            "+-----------------------------------------------------------------------------+\n",
            "| Processes:                                                                  |\n",
            "|  GPU   GI   CI        PID   Type   Process name                  GPU Memory |\n",
            "|        ID   ID                                                   Usage      |\n",
            "|=============================================================================|\n",
            "|  No running processes found                                                 |\n",
            "+-----------------------------------------------------------------------------+\n"
          ],
          "name": "stdout"
        }
      ]
    },
    {
      "cell_type": "code",
      "metadata": {
        "id": "tKvoSER01pNp",
        "colab": {
          "base_uri": "https://localhost:8080/"
        },
        "outputId": "fbc0db22-3cec-4293-bee9-d39c5655e064"
      },
      "source": [
        "!pip3 install tensorflow-addons --upgrade"
      ],
      "execution_count": 3,
      "outputs": [
        {
          "output_type": "stream",
          "text": [
            "Collecting tensorflow-addons\n",
            "\u001b[?25l  Downloading https://files.pythonhosted.org/packages/b3/f8/d6fca180c123f2851035c4493690662ebdad0849a9059d56035434bff5c9/tensorflow_addons-0.11.2-cp36-cp36m-manylinux2010_x86_64.whl (1.1MB)\n",
            "\r\u001b[K     |▎                               | 10kB 23.5MB/s eta 0:00:01\r\u001b[K     |▋                               | 20kB 14.1MB/s eta 0:00:01\r\u001b[K     |█                               | 30kB 13.3MB/s eta 0:00:01\r\u001b[K     |█▏                              | 40kB 12.9MB/s eta 0:00:01\r\u001b[K     |█▌                              | 51kB 10.3MB/s eta 0:00:01\r\u001b[K     |█▉                              | 61kB 10.5MB/s eta 0:00:01\r\u001b[K     |██                              | 71kB 10.7MB/s eta 0:00:01\r\u001b[K     |██▍                             | 81kB 10.9MB/s eta 0:00:01\r\u001b[K     |██▊                             | 92kB 11.6MB/s eta 0:00:01\r\u001b[K     |███                             | 102kB 11.6MB/s eta 0:00:01\r\u001b[K     |███▎                            | 112kB 11.6MB/s eta 0:00:01\r\u001b[K     |███▋                            | 122kB 11.6MB/s eta 0:00:01\r\u001b[K     |███▉                            | 133kB 11.6MB/s eta 0:00:01\r\u001b[K     |████▏                           | 143kB 11.6MB/s eta 0:00:01\r\u001b[K     |████▌                           | 153kB 11.6MB/s eta 0:00:01\r\u001b[K     |████▊                           | 163kB 11.6MB/s eta 0:00:01\r\u001b[K     |█████                           | 174kB 11.6MB/s eta 0:00:01\r\u001b[K     |█████▍                          | 184kB 11.6MB/s eta 0:00:01\r\u001b[K     |█████▋                          | 194kB 11.6MB/s eta 0:00:01\r\u001b[K     |██████                          | 204kB 11.6MB/s eta 0:00:01\r\u001b[K     |██████▎                         | 215kB 11.6MB/s eta 0:00:01\r\u001b[K     |██████▌                         | 225kB 11.6MB/s eta 0:00:01\r\u001b[K     |██████▉                         | 235kB 11.6MB/s eta 0:00:01\r\u001b[K     |███████▏                        | 245kB 11.6MB/s eta 0:00:01\r\u001b[K     |███████▌                        | 256kB 11.6MB/s eta 0:00:01\r\u001b[K     |███████▊                        | 266kB 11.6MB/s eta 0:00:01\r\u001b[K     |████████                        | 276kB 11.6MB/s eta 0:00:01\r\u001b[K     |████████▍                       | 286kB 11.6MB/s eta 0:00:01\r\u001b[K     |████████▋                       | 296kB 11.6MB/s eta 0:00:01\r\u001b[K     |█████████                       | 307kB 11.6MB/s eta 0:00:01\r\u001b[K     |█████████▎                      | 317kB 11.6MB/s eta 0:00:01\r\u001b[K     |█████████▌                      | 327kB 11.6MB/s eta 0:00:01\r\u001b[K     |█████████▉                      | 337kB 11.6MB/s eta 0:00:01\r\u001b[K     |██████████▏                     | 348kB 11.6MB/s eta 0:00:01\r\u001b[K     |██████████▍                     | 358kB 11.6MB/s eta 0:00:01\r\u001b[K     |██████████▊                     | 368kB 11.6MB/s eta 0:00:01\r\u001b[K     |███████████                     | 378kB 11.6MB/s eta 0:00:01\r\u001b[K     |███████████▎                    | 389kB 11.6MB/s eta 0:00:01\r\u001b[K     |███████████▋                    | 399kB 11.6MB/s eta 0:00:01\r\u001b[K     |████████████                    | 409kB 11.6MB/s eta 0:00:01\r\u001b[K     |████████████▏                   | 419kB 11.6MB/s eta 0:00:01\r\u001b[K     |████████████▌                   | 430kB 11.6MB/s eta 0:00:01\r\u001b[K     |████████████▉                   | 440kB 11.6MB/s eta 0:00:01\r\u001b[K     |█████████████                   | 450kB 11.6MB/s eta 0:00:01\r\u001b[K     |█████████████▍                  | 460kB 11.6MB/s eta 0:00:01\r\u001b[K     |█████████████▊                  | 471kB 11.6MB/s eta 0:00:01\r\u001b[K     |██████████████                  | 481kB 11.6MB/s eta 0:00:01\r\u001b[K     |██████████████▎                 | 491kB 11.6MB/s eta 0:00:01\r\u001b[K     |██████████████▋                 | 501kB 11.6MB/s eta 0:00:01\r\u001b[K     |███████████████                 | 512kB 11.6MB/s eta 0:00:01\r\u001b[K     |███████████████▏                | 522kB 11.6MB/s eta 0:00:01\r\u001b[K     |███████████████▌                | 532kB 11.6MB/s eta 0:00:01\r\u001b[K     |███████████████▉                | 542kB 11.6MB/s eta 0:00:01\r\u001b[K     |████████████████                | 552kB 11.6MB/s eta 0:00:01\r\u001b[K     |████████████████▍               | 563kB 11.6MB/s eta 0:00:01\r\u001b[K     |████████████████▊               | 573kB 11.6MB/s eta 0:00:01\r\u001b[K     |█████████████████               | 583kB 11.6MB/s eta 0:00:01\r\u001b[K     |█████████████████▎              | 593kB 11.6MB/s eta 0:00:01\r\u001b[K     |█████████████████▋              | 604kB 11.6MB/s eta 0:00:01\r\u001b[K     |█████████████████▉              | 614kB 11.6MB/s eta 0:00:01\r\u001b[K     |██████████████████▏             | 624kB 11.6MB/s eta 0:00:01\r\u001b[K     |██████████████████▌             | 634kB 11.6MB/s eta 0:00:01\r\u001b[K     |██████████████████▊             | 645kB 11.6MB/s eta 0:00:01\r\u001b[K     |███████████████████             | 655kB 11.6MB/s eta 0:00:01\r\u001b[K     |███████████████████▍            | 665kB 11.6MB/s eta 0:00:01\r\u001b[K     |███████████████████▋            | 675kB 11.6MB/s eta 0:00:01\r\u001b[K     |████████████████████            | 686kB 11.6MB/s eta 0:00:01\r\u001b[K     |████████████████████▎           | 696kB 11.6MB/s eta 0:00:01\r\u001b[K     |████████████████████▌           | 706kB 11.6MB/s eta 0:00:01\r\u001b[K     |████████████████████▉           | 716kB 11.6MB/s eta 0:00:01\r\u001b[K     |█████████████████████▏          | 727kB 11.6MB/s eta 0:00:01\r\u001b[K     |█████████████████████▍          | 737kB 11.6MB/s eta 0:00:01\r\u001b[K     |█████████████████████▊          | 747kB 11.6MB/s eta 0:00:01\r\u001b[K     |██████████████████████          | 757kB 11.6MB/s eta 0:00:01\r\u001b[K     |██████████████████████▍         | 768kB 11.6MB/s eta 0:00:01\r\u001b[K     |██████████████████████▋         | 778kB 11.6MB/s eta 0:00:01\r\u001b[K     |███████████████████████         | 788kB 11.6MB/s eta 0:00:01\r\u001b[K     |███████████████████████▎        | 798kB 11.6MB/s eta 0:00:01\r\u001b[K     |███████████████████████▌        | 808kB 11.6MB/s eta 0:00:01\r\u001b[K     |███████████████████████▉        | 819kB 11.6MB/s eta 0:00:01\r\u001b[K     |████████████████████████▏       | 829kB 11.6MB/s eta 0:00:01\r\u001b[K     |████████████████████████▍       | 839kB 11.6MB/s eta 0:00:01\r\u001b[K     |████████████████████████▊       | 849kB 11.6MB/s eta 0:00:01\r\u001b[K     |█████████████████████████       | 860kB 11.6MB/s eta 0:00:01\r\u001b[K     |█████████████████████████▎      | 870kB 11.6MB/s eta 0:00:01\r\u001b[K     |█████████████████████████▋      | 880kB 11.6MB/s eta 0:00:01\r\u001b[K     |██████████████████████████      | 890kB 11.6MB/s eta 0:00:01\r\u001b[K     |██████████████████████████▏     | 901kB 11.6MB/s eta 0:00:01\r\u001b[K     |██████████████████████████▌     | 911kB 11.6MB/s eta 0:00:01\r\u001b[K     |██████████████████████████▉     | 921kB 11.6MB/s eta 0:00:01\r\u001b[K     |███████████████████████████     | 931kB 11.6MB/s eta 0:00:01\r\u001b[K     |███████████████████████████▍    | 942kB 11.6MB/s eta 0:00:01\r\u001b[K     |███████████████████████████▊    | 952kB 11.6MB/s eta 0:00:01\r\u001b[K     |████████████████████████████    | 962kB 11.6MB/s eta 0:00:01\r\u001b[K     |████████████████████████████▎   | 972kB 11.6MB/s eta 0:00:01\r\u001b[K     |████████████████████████████▋   | 983kB 11.6MB/s eta 0:00:01\r\u001b[K     |████████████████████████████▉   | 993kB 11.6MB/s eta 0:00:01\r\u001b[K     |█████████████████████████████▏  | 1.0MB 11.6MB/s eta 0:00:01\r\u001b[K     |█████████████████████████████▌  | 1.0MB 11.6MB/s eta 0:00:01\r\u001b[K     |█████████████████████████████▉  | 1.0MB 11.6MB/s eta 0:00:01\r\u001b[K     |██████████████████████████████  | 1.0MB 11.6MB/s eta 0:00:01\r\u001b[K     |██████████████████████████████▍ | 1.0MB 11.6MB/s eta 0:00:01\r\u001b[K     |██████████████████████████████▊ | 1.1MB 11.6MB/s eta 0:00:01\r\u001b[K     |███████████████████████████████ | 1.1MB 11.6MB/s eta 0:00:01\r\u001b[K     |███████████████████████████████▎| 1.1MB 11.6MB/s eta 0:00:01\r\u001b[K     |███████████████████████████████▋| 1.1MB 11.6MB/s eta 0:00:01\r\u001b[K     |███████████████████████████████▉| 1.1MB 11.6MB/s eta 0:00:01\r\u001b[K     |████████████████████████████████| 1.1MB 11.6MB/s \n",
            "\u001b[?25hRequirement already satisfied, skipping upgrade: typeguard>=2.7 in /usr/local/lib/python3.6/dist-packages (from tensorflow-addons) (2.7.1)\n",
            "Installing collected packages: tensorflow-addons\n",
            "  Found existing installation: tensorflow-addons 0.8.3\n",
            "    Uninstalling tensorflow-addons-0.8.3:\n",
            "      Successfully uninstalled tensorflow-addons-0.8.3\n",
            "Successfully installed tensorflow-addons-0.11.2\n"
          ],
          "name": "stdout"
        }
      ]
    },
    {
      "cell_type": "code",
      "metadata": {
        "id": "QvgeZbR_yhBN"
      },
      "source": [
        "!rm -rf sample_data"
      ],
      "execution_count": 4,
      "outputs": []
    },
    {
      "cell_type": "code",
      "metadata": {
        "id": "buJ4ImYNxlH5",
        "colab": {
          "base_uri": "https://localhost:8080/"
        },
        "outputId": "36d65900-e1c1-4bdb-da50-28dc035a08b4"
      },
      "source": [
        "!git clone https://github.com/omerferhatt/neuro-image-reconstruction"
      ],
      "execution_count": 5,
      "outputs": [
        {
          "output_type": "stream",
          "text": [
            "Cloning into 'neuro-image-reconstruction'...\n",
            "remote: Enumerating objects: 167, done.\u001b[K\n",
            "remote: Counting objects: 100% (167/167), done.\u001b[K\n",
            "remote: Compressing objects: 100% (107/107), done.\u001b[K\n",
            "remote: Total 167 (delta 88), reused 114 (delta 46), pack-reused 0\u001b[K\n",
            "Receiving objects: 100% (167/167), 2.39 MiB | 9.21 MiB/s, done.\n",
            "Resolving deltas: 100% (88/88), done.\n"
          ],
          "name": "stdout"
        }
      ]
    },
    {
      "cell_type": "code",
      "metadata": {
        "id": "r77sd9pIyj7v",
        "colab": {
          "base_uri": "https://localhost:8080/"
        },
        "outputId": "98c2fe1f-926a-4336-ef32-afbe642a44a4"
      },
      "source": [
        "%cd neuro-image-reconstruction/"
      ],
      "execution_count": 6,
      "outputs": [
        {
          "output_type": "stream",
          "text": [
            "/content/neuro-image-reconstruction\n"
          ],
          "name": "stdout"
        }
      ]
    },
    {
      "cell_type": "code",
      "metadata": {
        "id": "m3DO4mY9yqzG",
        "colab": {
          "base_uri": "https://localhost:8080/"
        },
        "outputId": "15ccb3c0-ccaa-49b4-8910-f5c6ccb7ba88"
      },
      "source": [
        "!gdown --id 1dzRr8XGqrSIKJT26m7BVRn7-6s5zK_r3 -O data/mind-big-data.zip\n",
        "!gdown --id 1ycaA1npRPV0DklrQW7Mz9zmAXJDHyJw2 -O data/mind-big-data-imagenet.zip"
      ],
      "execution_count": 7,
      "outputs": [
        {
          "output_type": "stream",
          "text": [
            "Downloading...\n",
            "From: https://drive.google.com/uc?id=1dzRr8XGqrSIKJT26m7BVRn7-6s5zK_r3\n",
            "To: /content/neuro-image-reconstruction/data/mind-big-data.zip\n",
            "62.8MB [00:01, 59.0MB/s]\n",
            "Downloading...\n",
            "From: https://drive.google.com/uc?id=1ycaA1npRPV0DklrQW7Mz9zmAXJDHyJw2\n",
            "To: /content/neuro-image-reconstruction/data/mind-big-data-imagenet.zip\n",
            "1.48GB [00:31, 46.8MB/s]\n"
          ],
          "name": "stdout"
        }
      ]
    },
    {
      "cell_type": "code",
      "metadata": {
        "id": "kLrgdmRhzFjk"
      },
      "source": [
        "!unzip -q data/mind-big-data -d data/\n",
        "!unzip -q data/mind-big-data-imagenet.zip -d data/"
      ],
      "execution_count": 8,
      "outputs": []
    },
    {
      "cell_type": "code",
      "metadata": {
        "id": "HGimVvEKzw7L"
      },
      "source": [
        "!rm -rf data/mind-big-data-imagenet.zip && rm -rf data/mind-big-data.zip"
      ],
      "execution_count": 9,
      "outputs": []
    },
    {
      "cell_type": "code",
      "metadata": {
        "id": "eWki24-s4UfP",
        "colab": {
          "base_uri": "https://localhost:8080/"
        },
        "outputId": "339bed2a-0907-4cf5-f63a-22a60bd0d0b3"
      },
      "source": [
        "%cd /content/neuro-image-reconstruction/"
      ],
      "execution_count": 10,
      "outputs": [
        {
          "output_type": "stream",
          "text": [
            "/content/neuro-image-reconstruction\n"
          ],
          "name": "stdout"
        }
      ]
    },
    {
      "cell_type": "code",
      "metadata": {
        "id": "KNiAROns1nYq",
        "colab": {
          "base_uri": "https://localhost:8080/"
        },
        "outputId": "232f0caa-403b-4759-afcf-68138baf0c20"
      },
      "source": [
        "!python3 main.py"
      ],
      "execution_count": null,
      "outputs": [
        {
          "output_type": "stream",
          "text": [
            "2020-11-20 16:19:45.742668: I tensorflow/stream_executor/platform/default/dso_loader.cc:48] Successfully opened dynamic library libcudart.so.10.1\n",
            "2020-11-20 16:19:47.062873: I tensorflow/stream_executor/platform/default/dso_loader.cc:48] Successfully opened dynamic library libcuda.so.1\n",
            "2020-11-20 16:19:47.099722: I tensorflow/stream_executor/cuda/cuda_gpu_executor.cc:982] successful NUMA node read from SysFS had negative value (-1), but there must be at least one NUMA node, so returning NUMA node zero\n",
            "2020-11-20 16:19:47.100337: I tensorflow/core/common_runtime/gpu/gpu_device.cc:1716] Found device 0 with properties: \n",
            "pciBusID: 0000:00:04.0 name: Tesla T4 computeCapability: 7.5\n",
            "coreClock: 1.59GHz coreCount: 40 deviceMemorySize: 14.73GiB deviceMemoryBandwidth: 298.08GiB/s\n",
            "2020-11-20 16:19:47.100411: I tensorflow/stream_executor/platform/default/dso_loader.cc:48] Successfully opened dynamic library libcudart.so.10.1\n",
            "2020-11-20 16:19:47.101961: I tensorflow/stream_executor/platform/default/dso_loader.cc:48] Successfully opened dynamic library libcublas.so.10\n",
            "2020-11-20 16:19:47.104150: I tensorflow/stream_executor/platform/default/dso_loader.cc:48] Successfully opened dynamic library libcufft.so.10\n",
            "2020-11-20 16:19:47.104528: I tensorflow/stream_executor/platform/default/dso_loader.cc:48] Successfully opened dynamic library libcurand.so.10\n",
            "2020-11-20 16:19:47.107716: I tensorflow/stream_executor/platform/default/dso_loader.cc:48] Successfully opened dynamic library libcusolver.so.10\n",
            "2020-11-20 16:19:47.108624: I tensorflow/stream_executor/platform/default/dso_loader.cc:48] Successfully opened dynamic library libcusparse.so.10\n",
            "2020-11-20 16:19:47.112550: I tensorflow/stream_executor/platform/default/dso_loader.cc:48] Successfully opened dynamic library libcudnn.so.7\n",
            "2020-11-20 16:19:47.112687: I tensorflow/stream_executor/cuda/cuda_gpu_executor.cc:982] successful NUMA node read from SysFS had negative value (-1), but there must be at least one NUMA node, so returning NUMA node zero\n",
            "2020-11-20 16:19:47.113281: I tensorflow/stream_executor/cuda/cuda_gpu_executor.cc:982] successful NUMA node read from SysFS had negative value (-1), but there must be at least one NUMA node, so returning NUMA node zero\n",
            "2020-11-20 16:19:47.113808: I tensorflow/core/common_runtime/gpu/gpu_device.cc:1858] Adding visible gpu devices: 0\n",
            "2020-11-20 16:19:47.119193: I tensorflow/core/platform/profile_utils/cpu_utils.cc:104] CPU Frequency: 2200000000 Hz\n",
            "2020-11-20 16:19:47.119465: I tensorflow/compiler/xla/service/service.cc:168] XLA service 0x1c11100 initialized for platform Host (this does not guarantee that XLA will be used). Devices:\n",
            "2020-11-20 16:19:47.119495: I tensorflow/compiler/xla/service/service.cc:176]   StreamExecutor device (0): Host, Default Version\n",
            "2020-11-20 16:19:47.227377: I tensorflow/stream_executor/cuda/cuda_gpu_executor.cc:982] successful NUMA node read from SysFS had negative value (-1), but there must be at least one NUMA node, so returning NUMA node zero\n",
            "2020-11-20 16:19:47.228109: I tensorflow/compiler/xla/service/service.cc:168] XLA service 0x1c112c0 initialized for platform CUDA (this does not guarantee that XLA will be used). Devices:\n",
            "2020-11-20 16:19:47.228143: I tensorflow/compiler/xla/service/service.cc:176]   StreamExecutor device (0): Tesla T4, Compute Capability 7.5\n",
            "2020-11-20 16:19:47.228368: I tensorflow/stream_executor/cuda/cuda_gpu_executor.cc:982] successful NUMA node read from SysFS had negative value (-1), but there must be at least one NUMA node, so returning NUMA node zero\n",
            "2020-11-20 16:19:47.228988: I tensorflow/core/common_runtime/gpu/gpu_device.cc:1716] Found device 0 with properties: \n",
            "pciBusID: 0000:00:04.0 name: Tesla T4 computeCapability: 7.5\n",
            "coreClock: 1.59GHz coreCount: 40 deviceMemorySize: 14.73GiB deviceMemoryBandwidth: 298.08GiB/s\n",
            "2020-11-20 16:19:47.229050: I tensorflow/stream_executor/platform/default/dso_loader.cc:48] Successfully opened dynamic library libcudart.so.10.1\n",
            "2020-11-20 16:19:47.229089: I tensorflow/stream_executor/platform/default/dso_loader.cc:48] Successfully opened dynamic library libcublas.so.10\n",
            "2020-11-20 16:19:47.229112: I tensorflow/stream_executor/platform/default/dso_loader.cc:48] Successfully opened dynamic library libcufft.so.10\n",
            "2020-11-20 16:19:47.229136: I tensorflow/stream_executor/platform/default/dso_loader.cc:48] Successfully opened dynamic library libcurand.so.10\n",
            "2020-11-20 16:19:47.229161: I tensorflow/stream_executor/platform/default/dso_loader.cc:48] Successfully opened dynamic library libcusolver.so.10\n",
            "2020-11-20 16:19:47.229182: I tensorflow/stream_executor/platform/default/dso_loader.cc:48] Successfully opened dynamic library libcusparse.so.10\n",
            "2020-11-20 16:19:47.229205: I tensorflow/stream_executor/platform/default/dso_loader.cc:48] Successfully opened dynamic library libcudnn.so.7\n",
            "2020-11-20 16:19:47.229285: I tensorflow/stream_executor/cuda/cuda_gpu_executor.cc:982] successful NUMA node read from SysFS had negative value (-1), but there must be at least one NUMA node, so returning NUMA node zero\n",
            "2020-11-20 16:19:47.229945: I tensorflow/stream_executor/cuda/cuda_gpu_executor.cc:982] successful NUMA node read from SysFS had negative value (-1), but there must be at least one NUMA node, so returning NUMA node zero\n",
            "2020-11-20 16:19:47.230471: I tensorflow/core/common_runtime/gpu/gpu_device.cc:1858] Adding visible gpu devices: 0\n",
            "2020-11-20 16:19:47.230528: I tensorflow/stream_executor/platform/default/dso_loader.cc:48] Successfully opened dynamic library libcudart.so.10.1\n",
            "2020-11-20 16:19:47.906424: I tensorflow/core/common_runtime/gpu/gpu_device.cc:1257] Device interconnect StreamExecutor with strength 1 edge matrix:\n",
            "2020-11-20 16:19:47.906499: I tensorflow/core/common_runtime/gpu/gpu_device.cc:1263]      0 \n",
            "2020-11-20 16:19:47.906513: I tensorflow/core/common_runtime/gpu/gpu_device.cc:1276] 0:   N \n",
            "2020-11-20 16:19:47.906723: I tensorflow/stream_executor/cuda/cuda_gpu_executor.cc:982] successful NUMA node read from SysFS had negative value (-1), but there must be at least one NUMA node, so returning NUMA node zero\n",
            "2020-11-20 16:19:47.907365: I tensorflow/stream_executor/cuda/cuda_gpu_executor.cc:982] successful NUMA node read from SysFS had negative value (-1), but there must be at least one NUMA node, so returning NUMA node zero\n",
            "2020-11-20 16:19:47.907958: W tensorflow/core/common_runtime/gpu/gpu_bfc_allocator.cc:39] Overriding allow_growth setting because the TF_FORCE_GPU_ALLOW_GROWTH environment variable is set. Original config value was 0.\n",
            "2020-11-20 16:19:47.908010: I tensorflow/core/common_runtime/gpu/gpu_device.cc:1402] Created TensorFlow device (/job:localhost/replica:0/task:0/device:GPU:0 with 13962 MB memory) -> physical GPU (device: 0, name: Tesla T4, pci bus id: 0000:00:04.0, compute capability: 7.5)\n",
            "Epoch: 1\n",
            "2020-11-20 16:19:49.306722: I tensorflow/stream_executor/platform/default/dso_loader.cc:48] Successfully opened dynamic library libcudnn.so.7\n",
            "2020-11-20 16:19:51.100330: I tensorflow/stream_executor/platform/default/dso_loader.cc:48] Successfully opened dynamic library libcublas.so.10\n"
          ],
          "name": "stdout"
        }
      ]
    }
  ]
}